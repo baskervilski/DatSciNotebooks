{
 "cells": [
  {
   "cell_type": "markdown",
   "metadata": {},
   "source": [
    "# Basic Pandas & NumPy code optimization\n",
    "#### ~ Little hacks for major GAINZ ~"
   ]
  },
  {
   "cell_type": "markdown",
   "metadata": {},
   "source": [
    "**SUMMARY**\n",
    "\n",
    "**A) Go underground**\n",
    "- Pandas DataFrame and Series are built on top of NumPy arrays\n",
    "- Operating on the underlying NumPy array (accessible using `.values` and `.to_numpy()` methods), using NumPy methods (`np.sum(s)` instead of `s.sum()`), and choosing positional instead of boolean indexing (`np.where(condition)`), compounds to 4x, 10x, **even 100x faster** execution of certain operations.\n",
    "\n",
    "**B) Categories as Categories**\n",
    "- Storing your categorical data as strings in DataFrames is savagery. Use the `'categorical'` data type (`astype('category')`), available both in Pandas and NumPy, for major GAINZ in indexing/caounting/grouping/aggregating! Works even faster than with numerical encoding, proof below!\n",
    "\n",
    "**C) Exceptions, as always**\n",
    "- pandas still wins by a large margin when it comes to finding unique values of a Series (`pd.Series.unique()` and `pd.Series.value_counts()`), where it's 2 - 200x times faster than the numpy equivalent (`np.unique()`)"
   ]
  },
  {
   "cell_type": "markdown",
   "metadata": {},
   "source": [
    "### Initialize test data"
   ]
  },
  {
   "cell_type": "code",
   "execution_count": 530,
   "metadata": {},
   "outputs": [],
   "source": [
    "import pandas as pd\n",
    "import numpy as np\n",
    "from scipy.stats import skew, kurtosis"
   ]
  },
  {
   "cell_type": "code",
   "execution_count": 531,
   "metadata": {},
   "outputs": [],
   "source": [
    "nrows = 10**6\n",
    "\n",
    "df = pd.DataFrame()\n",
    "df['dec'] = np.random.normal(size=nrows)*100                  # random decimal numbers\n",
    "df['int'] = (np.random.uniform(size=nrows)*100).astype('int') # random integers (int format)\n",
    "df['int_float'] = df.int.astype('float')                      # random integers (float format)\n",
    "df['cat_str'] = np.random.choice(['A', 'B', 'C'], size=nrows) # random categorical var (string format)\n",
    "df['cat_cat'] = df.cat_str.astype('category')                 # random categorical var (category format)\n",
    "df['cat_num'] = df.cat_cat.cat.codes                          # random categorical var (int format)"
   ]
  },
  {
   "cell_type": "code",
   "execution_count": 532,
   "metadata": {},
   "outputs": [
    {
     "data": {
      "text/html": [
       "<div>\n",
       "<style scoped>\n",
       "    .dataframe tbody tr th:only-of-type {\n",
       "        vertical-align: middle;\n",
       "    }\n",
       "\n",
       "    .dataframe tbody tr th {\n",
       "        vertical-align: top;\n",
       "    }\n",
       "\n",
       "    .dataframe thead th {\n",
       "        text-align: right;\n",
       "    }\n",
       "</style>\n",
       "<table border=\"1\" class=\"dataframe\">\n",
       "  <thead>\n",
       "    <tr style=\"text-align: right;\">\n",
       "      <th></th>\n",
       "      <th>dec</th>\n",
       "      <th>int</th>\n",
       "      <th>int_float</th>\n",
       "      <th>cat_str</th>\n",
       "      <th>cat_cat</th>\n",
       "      <th>cat_num</th>\n",
       "    </tr>\n",
       "  </thead>\n",
       "  <tbody>\n",
       "    <tr>\n",
       "      <th>0</th>\n",
       "      <td>0.790252</td>\n",
       "      <td>74</td>\n",
       "      <td>74.0</td>\n",
       "      <td>B</td>\n",
       "      <td>B</td>\n",
       "      <td>1</td>\n",
       "    </tr>\n",
       "    <tr>\n",
       "      <th>1</th>\n",
       "      <td>-206.060663</td>\n",
       "      <td>40</td>\n",
       "      <td>40.0</td>\n",
       "      <td>A</td>\n",
       "      <td>A</td>\n",
       "      <td>0</td>\n",
       "    </tr>\n",
       "    <tr>\n",
       "      <th>2</th>\n",
       "      <td>-120.401291</td>\n",
       "      <td>89</td>\n",
       "      <td>89.0</td>\n",
       "      <td>C</td>\n",
       "      <td>C</td>\n",
       "      <td>2</td>\n",
       "    </tr>\n",
       "    <tr>\n",
       "      <th>3</th>\n",
       "      <td>37.482814</td>\n",
       "      <td>83</td>\n",
       "      <td>83.0</td>\n",
       "      <td>A</td>\n",
       "      <td>A</td>\n",
       "      <td>0</td>\n",
       "    </tr>\n",
       "    <tr>\n",
       "      <th>4</th>\n",
       "      <td>-1.567344</td>\n",
       "      <td>48</td>\n",
       "      <td>48.0</td>\n",
       "      <td>A</td>\n",
       "      <td>A</td>\n",
       "      <td>0</td>\n",
       "    </tr>\n",
       "  </tbody>\n",
       "</table>\n",
       "</div>"
      ],
      "text/plain": [
       "          dec  int  int_float cat_str cat_cat  cat_num\n",
       "0    0.790252   74       74.0       B       B        1\n",
       "1 -206.060663   40       40.0       A       A        0\n",
       "2 -120.401291   89       89.0       C       C        2\n",
       "3   37.482814   83       83.0       A       A        0\n",
       "4   -1.567344   48       48.0       A       A        0"
      ]
     },
     "execution_count": 532,
     "metadata": {},
     "output_type": "execute_result"
    }
   ],
   "source": [
    "df.head()"
   ]
  },
  {
   "cell_type": "code",
   "execution_count": 502,
   "metadata": {},
   "outputs": [
    {
     "data": {
      "text/plain": [
       "dec           float64\n",
       "int             int64\n",
       "int_float     float64\n",
       "cat_str        object\n",
       "cat_cat      category\n",
       "cat_num          int8\n",
       "dtype: object"
      ]
     },
     "execution_count": 502,
     "metadata": {},
     "output_type": "execute_result"
    }
   ],
   "source": [
    "df.dtypes"
   ]
  },
  {
   "cell_type": "markdown",
   "metadata": {},
   "source": [
    "# INDEXING: Boolean and positional"
   ]
  },
  {
   "cell_type": "code",
   "execution_count": 501,
   "metadata": {},
   "outputs": [
    {
     "name": "stdout",
     "output_type": "stream",
     "text": [
      "14.5 ms ± 196 µs per loop (mean ± std. dev. of 7 runs, 100 loops each)\n",
      "9.67 ms ± 116 µs per loop (mean ± std. dev. of 7 runs, 100 loops each)\n",
      "9.17 ms ± 152 µs per loop (mean ± std. dev. of 7 runs, 100 loops each)\n",
      "7.2 ms ± 142 µs per loop (mean ± std. dev. of 7 runs, 100 loops each)\n"
     ]
    }
   ],
   "source": [
    "# Input: Random decimal numbers\n",
    "%timeit df.dec[np.round(df.dec*0.01) == 1]\n",
    "%timeit df.dec.values[np.round(df.dec*0.01) == 1]\n",
    "%timeit df.dec.values[np.where(np.round(df.dec*0.01) == 1)]\n",
    "%timeit df.dec.values[np.where(np.round(df.dec.values*0.01) == 1)]"
   ]
  },
  {
   "cell_type": "code",
   "execution_count": 395,
   "metadata": {},
   "outputs": [
    {
     "name": "stdout",
     "output_type": "stream",
     "text": [
      "52.4 ms ± 4.74 ms per loop (mean ± std. dev. of 7 runs, 10 loops each)\n",
      "45.7 ms ± 296 µs per loop (mean ± std. dev. of 7 runs, 10 loops each)\n",
      "42 ms ± 95.3 µs per loop (mean ± std. dev. of 7 runs, 10 loops each)\n",
      "17.1 ms ± 124 µs per loop (mean ± std. dev. of 7 runs, 100 loops each)\n"
     ]
    }
   ],
   "source": [
    "# Input: Categorical values, data type: STRING\n",
    "%timeit df.cat_str[df.cat_str == 'A']\n",
    "%timeit df.cat_str.values[df.cat_str == 'A']\n",
    "%timeit df.cat_str.values[np.where(df.cat_str == 'A')]\n",
    "%timeit df.cat_str.values[np.where(df.cat_str.values == 'A')]"
   ]
  },
  {
   "cell_type": "code",
   "execution_count": 396,
   "metadata": {},
   "outputs": [
    {
     "name": "stdout",
     "output_type": "stream",
     "text": [
      "26.3 ms ± 219 µs per loop (mean ± std. dev. of 7 runs, 10 loops each)\n",
      "4.96 ms ± 8.02 µs per loop (mean ± std. dev. of 7 runs, 100 loops each)\n",
      "3.88 ms ± 9.24 µs per loop (mean ± std. dev. of 7 runs, 100 loops each)\n",
      "3.61 ms ± 31 µs per loop (mean ± std. dev. of 7 runs, 100 loops each)\n"
     ]
    }
   ],
   "source": [
    "# Input: Categorical values, data type: CATEGORY\n",
    "%timeit df.cat_cat[df.cat_cat == 'A']\n",
    "%timeit df.cat_cat.values[df.cat_cat == 'A']\n",
    "%timeit df.cat_cat.values[np.where(df.cat_cat == 'A')]\n",
    "%timeit df.cat_cat.values[np.where(df.cat_cat.values == 'A')]"
   ]
  },
  {
   "cell_type": "code",
   "execution_count": 397,
   "metadata": {},
   "outputs": [
    {
     "name": "stdout",
     "output_type": "stream",
     "text": [
      "9.52 ms ± 65.4 µs per loop (mean ± std. dev. of 7 runs, 100 loops each)\n",
      "4.85 ms ± 18.9 µs per loop (mean ± std. dev. of 7 runs, 100 loops each)\n",
      "3.74 ms ± 4.43 µs per loop (mean ± std. dev. of 7 runs, 100 loops each)\n",
      "3.56 ms ± 6.88 µs per loop (mean ± std. dev. of 7 runs, 100 loops each)\n"
     ]
    }
   ],
   "source": [
    "# Input: Categorical values, data type: INTEGER\n",
    "%timeit df.cat_num[df.cat_num == 1]\n",
    "%timeit df.cat_num.values[df.cat_num == 1]\n",
    "%timeit df.cat_num.values[np.where(df.cat_num == 1)]\n",
    "%timeit df.cat_num.values[np.where(df.cat_num.values == 1)]"
   ]
  },
  {
   "cell_type": "markdown",
   "metadata": {},
   "source": [
    "# Unique values"
   ]
  },
  {
   "cell_type": "code",
   "execution_count": 503,
   "metadata": {},
   "outputs": [
    {
     "name": "stdout",
     "output_type": "stream",
     "text": [
      "61.7 ms ± 7.61 ms per loop (mean ± std. dev. of 7 runs, 10 loops each)\n",
      "3.71 ms ± 164 µs per loop (mean ± std. dev. of 7 runs, 100 loops each)\n"
     ]
    }
   ],
   "source": [
    "# Input: Integers as INT\n",
    "%timeit np.unique(df.int.values)\n",
    "%timeit df.int.unique()"
   ]
  },
  {
   "cell_type": "code",
   "execution_count": 504,
   "metadata": {},
   "outputs": [
    {
     "name": "stdout",
     "output_type": "stream",
     "text": [
      "69 ms ± 4.28 ms per loop (mean ± std. dev. of 7 runs, 10 loops each)\n",
      "12.4 ms ± 113 µs per loop (mean ± std. dev. of 7 runs, 100 loops each)\n"
     ]
    }
   ],
   "source": [
    "# Input: Integers as FLOAT (.0) ==> visibly slower\n",
    "%timeit np.unique(df.int_float.values)\n",
    "%timeit df.int_float.unique()"
   ]
  },
  {
   "cell_type": "code",
   "execution_count": 505,
   "metadata": {},
   "outputs": [
    {
     "name": "stdout",
     "output_type": "stream",
     "text": [
      "506 ms ± 31.7 ms per loop (mean ± std. dev. of 7 runs, 1 loop each)\n",
      "24.1 ms ± 244 µs per loop (mean ± std. dev. of 7 runs, 10 loops each)\n"
     ]
    }
   ],
   "source": [
    "# Input: Categorical as STR\n",
    "%timeit np.unique(df.cat_str.values)\n",
    "%timeit df.cat_str.unique()"
   ]
  },
  {
   "cell_type": "code",
   "execution_count": 506,
   "metadata": {},
   "outputs": [
    {
     "name": "stdout",
     "output_type": "stream",
     "text": [
      "487 ms ± 10.7 ms per loop (mean ± std. dev. of 7 runs, 1 loop each)\n",
      "4.15 ms ± 133 µs per loop (mean ± std. dev. of 7 runs, 100 loops each)\n"
     ]
    }
   ],
   "source": [
    "# Input: Categorical as CATEGORY ==> MUCH faster!\n",
    "%timeit np.unique(df.cat_cat.values)\n",
    "%timeit df.cat_cat.unique()"
   ]
  },
  {
   "cell_type": "code",
   "execution_count": 507,
   "metadata": {},
   "outputs": [
    {
     "name": "stdout",
     "output_type": "stream",
     "text": [
      "16 ms ± 94.4 µs per loop (mean ± std. dev. of 7 runs, 100 loops each)\n",
      "3.65 ms ± 24.3 µs per loop (mean ± std. dev. of 7 runs, 100 loops each)\n"
     ]
    }
   ],
   "source": [
    "# Input: Categorical as INT ==> Only slightly faster than CATEGORY for PANDAS; visibly faster for Numpy\n",
    "%timeit np.unique(df.cat_num.values)\n",
    "%timeit df.cat_num.unique()"
   ]
  },
  {
   "cell_type": "markdown",
   "metadata": {},
   "source": [
    "# Value counts"
   ]
  },
  {
   "cell_type": "code",
   "execution_count": 513,
   "metadata": {},
   "outputs": [
    {
     "name": "stdout",
     "output_type": "stream",
     "text": [
      "59.5 ms ± 4.34 ms per loop (mean ± std. dev. of 7 runs, 10 loops each)\n",
      "9.04 ms ± 1.71 ms per loop (mean ± std. dev. of 7 runs, 100 loops each)\n"
     ]
    }
   ],
   "source": [
    "# Input: Integers as INT\n",
    "%timeit np.unique(df.int.values, return_counts=True)\n",
    "%timeit df.int.value_counts()"
   ]
  },
  {
   "cell_type": "code",
   "execution_count": 514,
   "metadata": {},
   "outputs": [
    {
     "name": "stdout",
     "output_type": "stream",
     "text": [
      "75.1 ms ± 2.77 ms per loop (mean ± std. dev. of 7 runs, 10 loops each)\n",
      "21.4 ms ± 4.58 ms per loop (mean ± std. dev. of 7 runs, 10 loops each)\n"
     ]
    }
   ],
   "source": [
    "# Input: Integers as FLOAT (.0) ==> visibly slower\n",
    "%timeit np.unique(df.int_float.values, return_counts=True)\n",
    "%timeit df.int_float.value_counts()"
   ]
  },
  {
   "cell_type": "code",
   "execution_count": 515,
   "metadata": {},
   "outputs": [
    {
     "name": "stdout",
     "output_type": "stream",
     "text": [
      "492 ms ± 21 ms per loop (mean ± std. dev. of 7 runs, 1 loop each)\n",
      "48.4 ms ± 186 µs per loop (mean ± std. dev. of 7 runs, 10 loops each)\n"
     ]
    }
   ],
   "source": [
    "# Input: Categorical as STR\n",
    "%timeit np.unique(df.cat_str.values, return_counts=True)\n",
    "%timeit df.cat_str.value_counts()"
   ]
  },
  {
   "cell_type": "code",
   "execution_count": 516,
   "metadata": {},
   "outputs": [
    {
     "name": "stdout",
     "output_type": "stream",
     "text": [
      "455 ms ± 2.27 ms per loop (mean ± std. dev. of 7 runs, 1 loop each)\n",
      "2.35 ms ± 25.4 µs per loop (mean ± std. dev. of 7 runs, 100 loops each)\n"
     ]
    }
   ],
   "source": [
    "# Input: Categorical as CATEGORY ==> MUCH faster (10x)\n",
    "%timeit np.unique(df.cat_cat.values, return_counts=True)\n",
    "%timeit df.cat_cat.value_counts()"
   ]
  },
  {
   "cell_type": "code",
   "execution_count": 517,
   "metadata": {},
   "outputs": [
    {
     "name": "stdout",
     "output_type": "stream",
     "text": [
      "16.5 ms ± 463 µs per loop (mean ± std. dev. of 7 runs, 100 loops each)\n",
      "9.01 ms ± 1.04 ms per loop (mean ± std. dev. of 7 runs, 100 loops each)\n"
     ]
    }
   ],
   "source": [
    "# Input: Categorical as INT ==> STRANGELY, much slower (4x) than CATEGORY counting using the Pandas method.\n",
    "%timeit np.unique(df.cat_num.values, return_counts=True)\n",
    "%timeit df.cat_num.value_counts()"
   ]
  },
  {
   "cell_type": "markdown",
   "metadata": {},
   "source": [
    "# The advantage of \"category\" type"
   ]
  },
  {
   "cell_type": "code",
   "execution_count": 518,
   "metadata": {},
   "outputs": [
    {
     "name": "stdout",
     "output_type": "stream",
     "text": [
      "47.3 ms ± 542 µs per loop (mean ± std. dev. of 7 runs, 10 loops each)\n",
      "8.16 ms ± 648 µs per loop (mean ± std. dev. of 7 runs, 100 loops each)\n",
      "2.43 ms ± 34.8 µs per loop (mean ± std. dev. of 7 runs, 100 loops each)\n"
     ]
    }
   ],
   "source": [
    "%timeit df.cat_str.value_counts()\n",
    "%timeit df.cat_num.value_counts()\n",
    "%timeit df.cat_cat.value_counts()"
   ]
  },
  {
   "cell_type": "markdown",
   "metadata": {},
   "source": [
    "# Min / Max / Mean / Median / Std / Sum /..."
   ]
  },
  {
   "cell_type": "code",
   "execution_count": 519,
   "metadata": {},
   "outputs": [
    {
     "name": "stdout",
     "output_type": "stream",
     "text": [
      "89.6 ms ± 1.97 ms per loop (mean ± std. dev. of 7 runs, 10 loops each)\n",
      "4.08 ms ± 395 µs per loop (mean ± std. dev. of 7 runs, 100 loops each)\n",
      "3.38 ms ± 113 µs per loop (mean ± std. dev. of 7 runs, 100 loops each)\n",
      "321 µs ± 2.12 µs per loop (mean ± std. dev. of 7 runs, 1000 loops each)\n"
     ]
    }
   ],
   "source": [
    "%timeit min(df.dec.values)\n",
    "%timeit np.min(df.dec)\n",
    "%timeit df.dec.min()\n",
    "%timeit np.min(df.dec.values) # Numpy 10x faster than Pandas!"
   ]
  },
  {
   "cell_type": "code",
   "execution_count": 520,
   "metadata": {},
   "outputs": [
    {
     "name": "stdout",
     "output_type": "stream",
     "text": [
      "86.3 ms ± 748 µs per loop (mean ± std. dev. of 7 runs, 10 loops each)\n",
      "3.77 ms ± 265 µs per loop (mean ± std. dev. of 7 runs, 100 loops each)\n",
      "3.49 ms ± 242 µs per loop (mean ± std. dev. of 7 runs, 100 loops each)\n",
      "393 µs ± 5.59 µs per loop (mean ± std. dev. of 7 runs, 1000 loops each)\n"
     ]
    }
   ],
   "source": [
    "%timeit max(df.dec.values)\n",
    "%timeit np.max(df.dec)\n",
    "%timeit df.dec.max()\n",
    "%timeit np.max(df.dec.values)"
   ]
  },
  {
   "cell_type": "code",
   "execution_count": 416,
   "metadata": {},
   "outputs": [
    {
     "name": "stdout",
     "output_type": "stream",
     "text": [
      "1.16 ms ± 5.46 µs per loop (mean ± std. dev. of 7 runs, 1000 loops each)\n",
      "1.15 ms ± 7.85 µs per loop (mean ± std. dev. of 7 runs, 1000 loops each)\n",
      "318 µs ± 210 ns per loop (mean ± std. dev. of 7 runs, 1000 loops each)\n"
     ]
    }
   ],
   "source": [
    "%timeit df.num.mean()\n",
    "%timeit np.mean(df.num)\n",
    "%timeit np.mean(df.num.values)"
   ]
  },
  {
   "cell_type": "code",
   "execution_count": 417,
   "metadata": {},
   "outputs": [
    {
     "name": "stdout",
     "output_type": "stream",
     "text": [
      "12.2 ms ± 349 µs per loop (mean ± std. dev. of 7 runs, 100 loops each)\n",
      "11.9 ms ± 12.1 µs per loop (mean ± std. dev. of 7 runs, 100 loops each)\n",
      "9.32 ms ± 10.3 µs per loop (mean ± std. dev. of 7 runs, 100 loops each)\n"
     ]
    }
   ],
   "source": [
    "%timeit np.median(df.num)\n",
    "%timeit np.median(df.num.values)\n",
    "%timeit df.num.median()"
   ]
  },
  {
   "cell_type": "code",
   "execution_count": 420,
   "metadata": {},
   "outputs": [
    {
     "name": "stdout",
     "output_type": "stream",
     "text": [
      "2.23 ms ± 3.11 µs per loop (mean ± std. dev. of 7 runs, 100 loops each)\n",
      "2.24 ms ± 3.78 µs per loop (mean ± std. dev. of 7 runs, 100 loops each)\n",
      "1.59 ms ± 3.32 µs per loop (mean ± std. dev. of 7 runs, 1000 loops each)\n"
     ]
    }
   ],
   "source": [
    "%timeit df.num.std()\n",
    "%timeit np.std(df.num)\n",
    "%timeit np.std(df.num.values)"
   ]
  },
  {
   "cell_type": "code",
   "execution_count": 421,
   "metadata": {},
   "outputs": [
    {
     "name": "stdout",
     "output_type": "stream",
     "text": [
      "53.7 ms ± 353 µs per loop (mean ± std. dev. of 7 runs, 10 loops each)\n",
      "3.3 ms ± 250 µs per loop (mean ± std. dev. of 7 runs, 100 loops each)\n",
      "3.34 ms ± 150 µs per loop (mean ± std. dev. of 7 runs, 100 loops each)\n",
      "263 µs ± 784 ns per loop (mean ± std. dev. of 7 runs, 1000 loops each)\n"
     ]
    }
   ],
   "source": [
    "%timeit sum(df.num)\n",
    "%timeit df.num.sum()\n",
    "%timeit np.sum(df.num)\n",
    "%timeit np.sum(df.num.values)"
   ]
  },
  {
   "cell_type": "code",
   "execution_count": 134,
   "metadata": {},
   "outputs": [
    {
     "name": "stdout",
     "output_type": "stream",
     "text": [
      "9.17 ms ± 22.9 µs per loop (mean ± std. dev. of 7 runs, 100 loops each)\n",
      "9.03 ms ± 12.8 µs per loop (mean ± std. dev. of 7 runs, 100 loops each)\n",
      "15.8 ms ± 137 µs per loop (mean ± std. dev. of 7 runs, 100 loops each)\n",
      "--------------------------------------------------------------------------------\n",
      "10.4 ms ± 8.9 µs per loop (mean ± std. dev. of 7 runs, 100 loops each)\n",
      "10.3 ms ± 24.6 µs per loop (mean ± std. dev. of 7 runs, 100 loops each)\n",
      "16.3 ms ± 156 µs per loop (mean ± std. dev. of 7 runs, 100 loops each)\n"
     ]
    }
   ],
   "source": [
    "%timeit sub = kurtosis(X2)\n",
    "%timeit sub = kurtosis(X2.values)\n",
    "%timeit sub = X2.kurtosis()\n",
    "\n",
    "print('-'*80)\n",
    "\n",
    "%timeit sub = skew(X2)\n",
    "%timeit sub = skew(X2.values)\n",
    "%timeit sub = X2.skew()"
   ]
  },
  {
   "cell_type": "code",
   "execution_count": 422,
   "metadata": {},
   "outputs": [
    {
     "name": "stdout",
     "output_type": "stream",
     "text": [
      "18.4 ms ± 334 µs per loop (mean ± std. dev. of 7 runs, 100 loops each)\n",
      "19.1 ms ± 1.24 ms per loop (mean ± std. dev. of 7 runs, 100 loops each)\n"
     ]
    }
   ],
   "source": [
    "%timeit np.percentile(X2, [10, 25, 75, 90])\n",
    "%timeit np.percentile(X2.values, [10, 25, 75, 90])"
   ]
  },
  {
   "cell_type": "markdown",
   "metadata": {},
   "source": [
    "# Length"
   ]
  },
  {
   "cell_type": "code",
   "execution_count": 423,
   "metadata": {},
   "outputs": [
    {
     "name": "stdout",
     "output_type": "stream",
     "text": [
      "3.82 µs ± 19.2 ns per loop (mean ± std. dev. of 7 runs, 100000 loops each)\n",
      "3.65 µs ± 24.4 ns per loop (mean ± std. dev. of 7 runs, 100000 loops each)\n",
      "3.49 µs ± 11.7 ns per loop (mean ± std. dev. of 7 runs, 100000 loops each)\n",
      "3.47 µs ± 6.75 ns per loop (mean ± std. dev. of 7 runs, 100000 loops each)\n"
     ]
    }
   ],
   "source": [
    "%timeit len(df.num)\n",
    "%timeit df.num.shape[0]\n",
    "%timeit df.num.values.shape[0]\n",
    "%timeit len(df.num.values)"
   ]
  },
  {
   "cell_type": "code",
   "execution_count": 424,
   "metadata": {},
   "outputs": [
    {
     "name": "stdout",
     "output_type": "stream",
     "text": [
      "646 µs ± 53 µs per loop (mean ± std. dev. of 7 runs, 1000 loops each)\n",
      "627 µs ± 1.49 µs per loop (mean ± std. dev. of 7 runs, 1000 loops each)\n",
      "534 µs ± 833 ns per loop (mean ± std. dev. of 7 runs, 1000 loops each)\n"
     ]
    }
   ],
   "source": [
    "%timeit abs(df.num)\n",
    "%timeit np.abs(df.num)\n",
    "%timeit np.abs(df.num.values)"
   ]
  },
  {
   "cell_type": "markdown",
   "metadata": {},
   "source": [
    "# Group By"
   ]
  },
  {
   "cell_type": "code",
   "execution_count": 523,
   "metadata": {},
   "outputs": [
    {
     "name": "stdout",
     "output_type": "stream",
     "text": [
      "32.2 ms ± 269 µs per loop (mean ± std. dev. of 7 runs, 10 loops each)\n",
      "5.8 ms ± 67.8 µs per loop (mean ± std. dev. of 7 runs, 100 loops each)\n",
      "11.1 ms ± 52 µs per loop (mean ± std. dev. of 7 runs, 100 loops each)\n"
     ]
    }
   ],
   "source": [
    "%timeit df.dec.groupby(df.cat_str).sum()\n",
    "%timeit df.dec.groupby(df.cat_num).sum()\n",
    "%timeit df.dec.groupby(df.cat_cat).sum()"
   ]
  },
  {
   "cell_type": "markdown",
   "metadata": {},
   "source": [
    "# Groupping/Splitting"
   ]
  },
  {
   "cell_type": "code",
   "execution_count": 533,
   "metadata": {},
   "outputs": [
    {
     "name": "stdout",
     "output_type": "stream",
     "text": [
      "72.9 ms ± 5.15 ms per loop (mean ± std. dev. of 7 runs, 10 loops each)\n",
      "51.7 ms ± 262 µs per loop (mean ± std. dev. of 7 runs, 10 loops each)\n",
      "47.4 ms ± 3.08 ms per loop (mean ± std. dev. of 7 runs, 10 loops each)\n"
     ]
    }
   ],
   "source": [
    "%timeit [df_part for k, df_part in df.groupby('cat_str')]\n",
    "%timeit [df_part for k, df_part in df.groupby('cat_cat')]"
   ]
  },
  {
   "cell_type": "code",
   "execution_count": 535,
   "metadata": {},
   "outputs": [
    {
     "name": "stdout",
     "output_type": "stream",
     "text": [
      "160 ms ± 3.25 ms per loop (mean ± std. dev. of 7 runs, 10 loops each)\n",
      "82.5 ms ± 397 µs per loop (mean ± std. dev. of 7 runs, 10 loops each)\n",
      "48.4 ms ± 136 µs per loop (mean ± std. dev. of 7 runs, 10 loops each)\n",
      "46.5 ms ± 106 µs per loop (mean ± std. dev. of 7 runs, 10 loops each)\n",
      "47.3 ms ± 102 µs per loop (mean ± std. dev. of 7 runs, 10 loops each)\n",
      "46.5 ms ± 189 µs per loop (mean ± std. dev. of 7 runs, 10 loops each)\n"
     ]
    }
   ],
   "source": [
    "%timeit [df[df.cat_str == lbl] for lbl in ['A', 'B', 'C']]\n",
    "%timeit [df[df.cat_str.values == lbl] for lbl in ['A', 'B', 'C']]\n",
    "\n",
    "%timeit [df[df.cat_cat == lbl] for lbl in ['A', 'B', 'C']]\n",
    "%timeit [df[df.cat_cat.values == lbl] for lbl in ['A', 'B', 'C']]"
   ]
  },
  {
   "cell_type": "markdown",
   "metadata": {},
   "source": [
    "# BONUS: Accelertion using Numba"
   ]
  },
  {
   "cell_type": "markdown",
   "metadata": {},
   "source": [
    "**NOTE:** You cannot do this simply with any function: It needs to be written using \"pure\" NumPy and considering many restrictions that Numba imposes in order to \"digest it\" (numba doesn't play along well with strings, for example).\n",
    "\n",
    "Still, for \"purely numerical\" functions, numba's \"just-in-time\" compiler can provide amazing boosts."
   ]
  },
  {
   "cell_type": "code",
   "execution_count": 556,
   "metadata": {},
   "outputs": [],
   "source": [
    "import numba\n",
    "\n",
    "def normal_decimal_extractor(X, n_decimals):\n",
    "    \n",
    "    r = np.floor((X - np.floor(X))*(10**n_decimals))\n",
    "\n",
    "    return r \n",
    "        \n",
    "fast_decimal_extractor = numba.njit(normal_decimal_extractor)"
   ]
  },
  {
   "cell_type": "code",
   "execution_count": 561,
   "metadata": {},
   "outputs": [
    {
     "name": "stdout",
     "output_type": "stream",
     "text": [
      "3.01 ms ± 10.8 µs per loop (mean ± std. dev. of 7 runs, 100 loops each)\n",
      "618 µs ± 3.61 µs per loop (mean ± std. dev. of 7 runs, 1000 loops each)\n"
     ]
    }
   ],
   "source": [
    "%timeit normal_decimal_extractor(df.dec.values, 2)\n",
    "%timeit fast_decimal_extractor(df.dec.values, 2) # runs faster after the 1st run."
   ]
  }
 ],
 "metadata": {
  "kernelspec": {
   "display_name": "ada_experimental",
   "language": "python",
   "name": "ada_experimental"
  },
  "language_info": {
   "codemirror_mode": {
    "name": "ipython",
    "version": 3
   },
   "file_extension": ".py",
   "mimetype": "text/x-python",
   "name": "python",
   "nbconvert_exporter": "python",
   "pygments_lexer": "ipython3",
   "version": "3.7.5"
  }
 },
 "nbformat": 4,
 "nbformat_minor": 2
}
